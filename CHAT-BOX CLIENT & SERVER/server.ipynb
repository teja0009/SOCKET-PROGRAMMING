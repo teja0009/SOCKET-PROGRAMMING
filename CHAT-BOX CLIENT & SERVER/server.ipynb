{
 "cells": [
  {
   "cell_type": "code",
   "execution_count": null,
   "metadata": {},
   "outputs": [],
   "source": [
    "# Python program to implement client side of chat room.\n",
    "import socket\n",
    "import select\n",
    "import sys\n",
    "\n",
    "server = socket.socket(socket.AF_INET, socket.SOCK_STREAM)\n",
    "if len(sys.argv) != 3:\n",
    "\tprint (\"Correct usage: script, IP address, port number\")\n",
    "\texit()\n",
    "IP_address = str(sys.argv[1])\n",
    "Port = int(sys.argv[2])\n",
    "server.connect((IP_address, Port))\n",
    "\n",
    "while True:\n",
    "\n",
    "\t# maintains a list of possible input streams\n",
    "\tsockets_list = [sys.stdin, server]\n",
    "\n",
    "\t\"\"\" There are two possible input situations. Either the\n",
    "\tuser wants to give manual input to send to other people,\n",
    "\tor the server is sending a message to be printed on the\n",
    "\tscreen. Select returns from sockets_list, the stream that\n",
    "\tis reader for input. So for example, if the server wants\n",
    "\tto send a message, then the if condition will hold true\n",
    "\tbelow.If the user wants to send a message, the else\n",
    "\tcondition will evaluate as true\"\"\"\n",
    "\tread_sockets,write_socket, error_socket = select.select(sockets_list,[],[])\n",
    "\n",
    "\tfor socks in read_sockets:\n",
    "\t\tif socks == server:\n",
    "\t\t\tmessage = socks.recv(2048)\n",
    "\t\t\tprint (message)\n",
    "\t\telse:\n",
    "\t\t\tmessage = sys.stdin.readline()\n",
    "\t\t\tserver.send(message)\n",
    "\t\t\tsys.stdout.write(\"<You>\")\n",
    "\t\t\tsys.stdout.write(message)\n",
    "\t\t\tsys.stdout.flush()\n",
    "server.close()\n"
   ]
  }
 ],
 "metadata": {
  "kernelspec": {
   "display_name": "Python 3.10.7 64-bit",
   "language": "python",
   "name": "python3"
  },
  "language_info": {
   "name": "python",
   "version": "3.10.7"
  },
  "orig_nbformat": 4,
  "vscode": {
   "interpreter": {
    "hash": "26de051ba29f2982a8de78e945f0abaf191376122a1563185a90213a26c5da77"
   }
  }
 },
 "nbformat": 4,
 "nbformat_minor": 2
}
